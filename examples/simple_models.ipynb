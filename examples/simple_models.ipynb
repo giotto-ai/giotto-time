{
 "cells": [
  {
   "cell_type": "markdown",
   "metadata": {},
   "source": [
    "# Simple models\n",
    "This example demonstrates how giotto-time can be used for simple prediction pipelines"
   ]
  },
  {
   "cell_type": "markdown",
   "metadata": {},
   "source": [
    "### Initializing the time series"
   ]
  },
  {
   "cell_type": "code",
   "execution_count": null,
   "metadata": {
    "ExecuteTime": {
     "end_time": "2020-03-30T20:03:49.192667Z",
     "start_time": "2020-03-30T20:03:49.186725Z"
    }
   },
   "outputs": [],
   "source": [
    "import sys\n",
    "sys.path.append('../')"
   ]
  },
  {
   "cell_type": "code",
   "execution_count": null,
   "metadata": {
    "ExecuteTime": {
     "end_time": "2020-03-30T20:03:52.693935Z",
     "start_time": "2020-03-30T20:03:49.196712Z"
    }
   },
   "outputs": [],
   "source": [
    "import pandas as pd\n",
    "import numpy as np\n",
    "import matplotlib.pyplot as plt\n",
    "%matplotlib inline  \n",
    "\n",
    "from gtime.preprocessing import TimeSeriesPreparation\n",
    "from gtime.compose import FeatureCreation\n",
    "from gtime.time_series_models import (\n",
    "    Naive, \n",
    "    SeasonalNaive, \n",
    "    Average, \n",
    "    Drift,\n",
    ")"
   ]
  },
  {
   "cell_type": "code",
   "execution_count": null,
   "metadata": {
    "ExecuteTime": {
     "end_time": "2020-03-30T20:03:52.709048Z",
     "start_time": "2020-03-30T20:03:52.699171Z"
    }
   },
   "outputs": [],
   "source": [
    "def pred_to_plot(y_pred):\n",
    "    start = y_pred.index.min()\n",
    "    len_y = len(y_pred.columns)\n",
    "    window = len_y * pd.Timedelta(y_pred.index.freq)\n",
    "    end=y_pred.index.max() + window\n",
    "    ix = pd.period_range(start=start, end=end)\n",
    "    res = pd.DataFrame(np.nan, index=ix, columns=y_pred.index)\n",
    "    j = 1\n",
    "    for i, row in y_pred.iterrows():\n",
    "        res.loc[i+pd.Timedelta(y_pred.index.freq):i+window, i] = row.values\n",
    "        j += 1\n",
    "    return res"
   ]
  },
  {
   "cell_type": "code",
   "execution_count": null,
   "metadata": {
    "ExecuteTime": {
     "end_time": "2020-03-30T20:03:52.933338Z",
     "start_time": "2020-03-30T20:03:52.712163Z"
    }
   },
   "outputs": [],
   "source": [
    "df_sp = pd.read_csv('https://storage.googleapis.com/l2f-open-models/giotto-time/examples/data/^GSPC.csv')\n",
    "df_sp.head()"
   ]
  },
  {
   "cell_type": "code",
   "execution_count": null,
   "metadata": {
    "ExecuteTime": {
     "end_time": "2020-03-30T20:03:52.948969Z",
     "start_time": "2020-03-30T20:03:52.939189Z"
    },
    "scrolled": true
   },
   "outputs": [],
   "source": [
    "df_close = df_sp.set_index('Date')['Close']"
   ]
  },
  {
   "cell_type": "code",
   "execution_count": null,
   "metadata": {
    "ExecuteTime": {
     "end_time": "2020-03-30T20:03:52.986307Z",
     "start_time": "2020-03-30T20:03:52.958353Z"
    }
   },
   "outputs": [],
   "source": [
    "df_close.index = pd.to_datetime(df_close.index)"
   ]
  },
  {
   "cell_type": "markdown",
   "metadata": {},
   "source": [
    "### Time Series Preparation\n",
    "The input time series has to be a `DataFrame` with a `PeriodIndex`. Use the provided class `TimeSeriesPreparation` to convert the time series into this format."
   ]
  },
  {
   "cell_type": "code",
   "execution_count": null,
   "metadata": {
    "ExecuteTime": {
     "end_time": "2020-03-30T20:03:53.510847Z",
     "start_time": "2020-03-30T20:03:52.991923Z"
    }
   },
   "outputs": [],
   "source": [
    "time_series_preparation = TimeSeriesPreparation()\n",
    "period_index_time_series = time_series_preparation.transform(df_close)\n",
    "period_index_time_series.plot(figsize=(20, 5))\n",
    "plt.show()"
   ]
  },
  {
   "cell_type": "markdown",
   "metadata": {},
   "source": [
    "### Naïve model"
   ]
  },
  {
   "cell_type": "code",
   "execution_count": null,
   "metadata": {
    "ExecuteTime": {
     "end_time": "2020-03-30T20:03:53.662528Z",
     "start_time": "2020-03-30T20:03:53.517205Z"
    }
   },
   "outputs": [],
   "source": [
    "model = Naive(horizon=60)\n",
    "model.fit(period_index_time_series)"
   ]
  },
  {
   "cell_type": "code",
   "execution_count": null,
   "metadata": {
    "ExecuteTime": {
     "end_time": "2020-03-30T20:03:53.755515Z",
     "start_time": "2020-03-30T20:03:53.666952Z"
    }
   },
   "outputs": [],
   "source": [
    "y_pred = model.predict()\n",
    "y_plot = pred_to_plot(y_pred)\n",
    "for i in y_plot.columns:\n",
    "    y_plot.loc[i, i] = period_index_time_series.loc[i].values"
   ]
  },
  {
   "cell_type": "code",
   "execution_count": null,
   "metadata": {
    "ExecuteTime": {
     "end_time": "2020-03-30T20:03:54.284891Z",
     "start_time": "2020-03-30T20:03:53.762830Z"
    }
   },
   "outputs": [],
   "source": [
    "ax = period_index_time_series.loc['2019-09-01':].plot(figsize=(20, 5))\n",
    "y_plot.iloc[:, [0, 19, 39, 59]].plot(ax=ax)\n",
    "plt.show()"
   ]
  },
  {
   "cell_type": "markdown",
   "metadata": {},
   "source": [
    "### Seasonal naïve model"
   ]
  },
  {
   "cell_type": "code",
   "execution_count": null,
   "metadata": {
    "ExecuteTime": {
     "end_time": "2020-03-30T20:03:54.460572Z",
     "start_time": "2020-03-30T20:03:54.303548Z"
    }
   },
   "outputs": [],
   "source": [
    "model = SeasonalNaive(horizon=60, seasonal_length=30)\n",
    "model.fit(period_index_time_series)"
   ]
  },
  {
   "cell_type": "code",
   "execution_count": null,
   "metadata": {
    "ExecuteTime": {
     "end_time": "2020-03-30T20:03:54.606844Z",
     "start_time": "2020-03-30T20:03:54.463031Z"
    }
   },
   "outputs": [],
   "source": [
    "y_pred = model.predict()\n",
    "y_plot = pred_to_plot(y_pred)\n",
    "for i in y_plot.columns:\n",
    "    y_plot.loc[i, i] = period_index_time_series.loc[i].values"
   ]
  },
  {
   "cell_type": "code",
   "execution_count": null,
   "metadata": {
    "ExecuteTime": {
     "end_time": "2020-03-30T20:03:55.167637Z",
     "start_time": "2020-03-30T20:03:54.616130Z"
    },
    "scrolled": true
   },
   "outputs": [],
   "source": [
    "ax = period_index_time_series.loc['2019-09-01':].plot(figsize=(20, 5))\n",
    "y_plot.iloc[:, [0, 19, 39, 59]].plot(ax=ax)\n",
    "plt.show()"
   ]
  },
  {
   "cell_type": "markdown",
   "metadata": {},
   "source": [
    "### Average model"
   ]
  },
  {
   "cell_type": "code",
   "execution_count": null,
   "metadata": {
    "ExecuteTime": {
     "end_time": "2020-03-30T20:03:55.285121Z",
     "start_time": "2020-03-30T20:03:55.171785Z"
    }
   },
   "outputs": [],
   "source": [
    "model = Average(horizon=60)\n",
    "model.fit(period_index_time_series)"
   ]
  },
  {
   "cell_type": "code",
   "execution_count": null,
   "metadata": {
    "ExecuteTime": {
     "end_time": "2020-03-30T20:03:55.385693Z",
     "start_time": "2020-03-30T20:03:55.287957Z"
    }
   },
   "outputs": [],
   "source": [
    "y_pred = model.predict()\n",
    "y_plot = pred_to_plot(y_pred)\n",
    "for i in y_plot.columns:\n",
    "    y_plot.loc[i, i] = period_index_time_series.loc[i].values"
   ]
  },
  {
   "cell_type": "code",
   "execution_count": null,
   "metadata": {
    "ExecuteTime": {
     "end_time": "2020-03-30T20:03:55.874646Z",
     "start_time": "2020-03-30T20:03:55.387836Z"
    },
    "scrolled": true
   },
   "outputs": [],
   "source": [
    "ax = period_index_time_series.loc['2019-09-01':].plot(figsize=(20, 5))\n",
    "y_plot.iloc[:, [0, 19, 39, 59]].plot(ax=ax)\n",
    "plt.show()"
   ]
  },
  {
   "cell_type": "markdown",
   "metadata": {},
   "source": [
    "### Drift model"
   ]
  },
  {
   "cell_type": "code",
   "execution_count": null,
   "metadata": {
    "ExecuteTime": {
     "end_time": "2020-03-30T20:03:56.039979Z",
     "start_time": "2020-03-30T20:03:55.882298Z"
    }
   },
   "outputs": [],
   "source": [
    "model = Drift(horizon=60)\n",
    "model.fit(period_index_time_series)"
   ]
  },
  {
   "cell_type": "code",
   "execution_count": null,
   "metadata": {
    "ExecuteTime": {
     "end_time": "2020-03-30T20:03:56.113162Z",
     "start_time": "2020-03-30T20:03:56.042595Z"
    }
   },
   "outputs": [],
   "source": [
    "y_pred = model.predict()\n",
    "y_plot = pred_to_plot(y_pred)\n",
    "for i in y_plot.columns:\n",
    "    y_plot.loc[i, i] = period_index_time_series.loc[i].values"
   ]
  },
  {
   "cell_type": "code",
   "execution_count": null,
   "metadata": {
    "ExecuteTime": {
     "end_time": "2020-03-30T20:03:56.539848Z",
     "start_time": "2020-03-30T20:03:56.115815Z"
    },
    "scrolled": true
   },
   "outputs": [],
   "source": [
    "ax = period_index_time_series.loc['2019-09-01':].plot(figsize=(20, 5))\n",
    "y_plot.iloc[:, [0, 19, 39, 59]].plot(ax=ax)\n",
    "plt.show()"
   ]
  },
  {
   "cell_type": "code",
   "execution_count": null,
   "metadata": {},
   "outputs": [],
   "source": []
  }
 ],
 "metadata": {
  "kernelspec": {
   "display_name": "Python 3 (ipykernel)",
   "language": "python",
   "name": "python3"
  },
  "language_info": {
   "codemirror_mode": {
    "name": "ipython",
    "version": 3
   },
   "file_extension": ".py",
   "mimetype": "text/x-python",
   "name": "python",
   "nbconvert_exporter": "python",
   "pygments_lexer": "ipython3",
   "version": "3.9.13"
  }
 },
 "nbformat": 4,
 "nbformat_minor": 4
}
