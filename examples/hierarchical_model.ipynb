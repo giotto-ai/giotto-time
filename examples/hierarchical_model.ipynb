{
 "cells": [
  {
   "cell_type": "markdown",
   "metadata": {},
   "source": [
    "# Hierarchical model\n",
    "This exemple shows how the hierarchical model can be used"
   ]
  },
  {
   "cell_type": "code",
   "execution_count": null,
   "metadata": {},
   "outputs": [],
   "source": [
    "import sys\n",
    "sys.path.append('../')"
   ]
  },
  {
   "cell_type": "code",
   "execution_count": null,
   "metadata": {},
   "outputs": [],
   "source": [
    "import pandas as pd\n",
    "import numpy as np\n",
    "import matplotlib.pyplot as plt\n",
    "import networkx as nx\n",
    "%matplotlib inline  \n",
    "\n",
    "from gtime.hierarchical import HierarchicalMiddleOut\n",
    "from gtime.hierarchical import HierarchicalTopDown\n",
    "from gtime.hierarchical import HierarchicalBottomUp\n",
    "import pandas._testing as testing\n",
    "from gtime.time_series_models import AR"
   ]
  },
  {
   "cell_type": "code",
   "execution_count": null,
   "metadata": {},
   "outputs": [],
   "source": [
    "testing.N, testing.K = 20, 1\n",
    "\n",
    "data1 = testing.makeTimeDataFrame(freq=\"s\")\n",
    "data2 = testing.makeTimeDataFrame(freq=\"s\")\n",
    "data3 = testing.makeTimeDataFrame(freq=\"s\")\n",
    "data4 = testing.makeTimeDataFrame(freq=\"s\")\n",
    "data5 = testing.makeTimeDataFrame(freq=\"s\")\n",
    "data6 = testing.makeTimeDataFrame(freq=\"s\")\n",
    "data = {'data1': data1, 'data2': data2, 'data3' : data3, 'data4' : data4, 'data5' : data5, 'data6' : data6}"
   ]
  },
  {
   "cell_type": "code",
   "execution_count": null,
   "metadata": {},
   "outputs": [],
   "source": [
    "tree_adj = {'data1' : ['data2','data3'], 'data2': ['data4', 'data5'], 'data3':['data6'], 'data4':[], 'data5':[], 'data6':[]} "
   ]
  },
  {
   "cell_type": "code",
   "execution_count": null,
   "metadata": {},
   "outputs": [],
   "source": [
    "stat_model = AR(p=2, horizon=3)\n",
    "middle_out_model = HierarchicalMiddleOut(model=stat_model, hierarchy_tree=tree_adj, method='tdsga', level=0)"
   ]
  },
  {
   "cell_type": "code",
   "execution_count": null,
   "metadata": {},
   "outputs": [],
   "source": [
    "fitting_middle_out = middle_out_model.fit(data)"
   ]
  },
  {
   "cell_type": "code",
   "execution_count": null,
   "metadata": {
    "scrolled": true
   },
   "outputs": [],
   "source": [
    "fitting_middle_out.predict(data)"
   ]
  },
  {
   "cell_type": "code",
   "execution_count": null,
   "metadata": {},
   "outputs": [],
   "source": []
  }
 ],
 "metadata": {
  "kernelspec": {
   "display_name": "Python 3 (ipykernel)",
   "language": "python",
   "name": "python3"
  },
  "language_info": {
   "codemirror_mode": {
    "name": "ipython",
    "version": 3
   },
   "file_extension": ".py",
   "mimetype": "text/x-python",
   "name": "python",
   "nbconvert_exporter": "python",
   "pygments_lexer": "ipython3",
   "version": "3.9.13"
  }
 },
 "nbformat": 4,
 "nbformat_minor": 4
}
