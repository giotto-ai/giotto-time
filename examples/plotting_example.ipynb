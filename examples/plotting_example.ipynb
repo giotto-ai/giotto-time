{
 "cells": [
  {
   "cell_type": "markdown",
   "metadata": {},
   "source": [
    "# Data analysis with giotto-time plotting tools"
   ]
  },
  {
   "cell_type": "markdown",
   "metadata": {},
   "source": [
    "In this example we will analyse S&P GSCI Kansas Wheat Index, which is an important agricultural price indicator, for the last 10 years. We'll show how trends and seasonality can be analysed with giotto-time plotting tools."
   ]
  },
  {
   "cell_type": "markdown",
   "metadata": {},
   "source": [
    "## Imports and setups"
   ]
  },
  {
   "cell_type": "code",
   "execution_count": null,
   "metadata": {
    "ExecuteTime": {
     "end_time": "2020-04-14T12:03:59.943291Z",
     "start_time": "2020-04-14T12:03:57.356630Z"
    }
   },
   "outputs": [],
   "source": [
    "import sys\n",
    "sys.path.append('../')\n",
    "\n",
    "import pandas as pd\n",
    "import numpy as np\n",
    "import matplotlib.pyplot as plt\n",
    "%matplotlib inline  \n",
    "\n",
    "from gtime.preprocessing import TimeSeriesPreparation\n",
    "from gtime.plotting import seasonal_plot, seasonal_subplots, lag_plot, acf_plot"
   ]
  },
  {
   "cell_type": "markdown",
   "metadata": {},
   "source": [
    "## Data setup"
   ]
  },
  {
   "cell_type": "markdown",
   "metadata": {
    "ExecuteTime": {
     "end_time": "2020-04-03T12:02:56.549489Z",
     "start_time": "2020-04-03T12:02:56.535065Z"
    }
   },
   "source": [
    "### Loading data"
   ]
  },
  {
   "cell_type": "code",
   "execution_count": null,
   "metadata": {
    "ExecuteTime": {
     "end_time": "2020-04-14T12:04:01.465754Z",
     "start_time": "2020-04-14T12:03:59.946283Z"
    }
   },
   "outputs": [],
   "source": [
    "df_sp = pd.read_csv('https://storage.googleapis.com/l2f-open-models/giotto-time/examples/data/WheatTr.csv', sep='\\t')\n",
    "df_column = df_sp.set_index('Effective date ')['S&P GSCI Kansas Wheat']"
   ]
  },
  {
   "cell_type": "markdown",
   "metadata": {},
   "source": [
    "### Converting to a Giotto time series"
   ]
  },
  {
   "cell_type": "markdown",
   "metadata": {},
   "source": [
    "First, the initial time series has to be converted to a periodic indexed format and fill the missing values for non-trading days."
   ]
  },
  {
   "cell_type": "code",
   "execution_count": null,
   "metadata": {
    "ExecuteTime": {
     "end_time": "2020-04-14T12:04:01.491563Z",
     "start_time": "2020-04-14T12:04:01.469984Z"
    }
   },
   "outputs": [],
   "source": [
    "df_column.index = pd.to_datetime(df_column.index)\n",
    "time_series_preparation = TimeSeriesPreparation(output_name='Wheat price index')\n",
    "period_index_time_series = time_series_preparation.transform(df_column)\n",
    "df = period_index_time_series.resample('D').fillna(method='ffill')"
   ]
  },
  {
   "cell_type": "markdown",
   "metadata": {},
   "source": [
    "Apart from index values, we would also analyse its changes in for of log-returns. Log-returns are selected so that the aggregation can be done by a simple sum of returns for the period."
   ]
  },
  {
   "cell_type": "code",
   "execution_count": null,
   "metadata": {
    "ExecuteTime": {
     "end_time": "2020-04-14T12:04:01.512353Z",
     "start_time": "2020-04-14T12:04:01.496575Z"
    }
   },
   "outputs": [],
   "source": [
    "returns = (np.log(df / df.shift(1))).dropna()\n",
    "returns.columns = ['Wheat price returns']"
   ]
  },
  {
   "cell_type": "markdown",
   "metadata": {},
   "source": [
    "## Exploratory data analysis"
   ]
  },
  {
   "cell_type": "markdown",
   "metadata": {},
   "source": [
    "First, we can see that the index was decreasing for most of the period but there is no clearn trends in returns or their volatility."
   ]
  },
  {
   "cell_type": "code",
   "execution_count": null,
   "metadata": {
    "ExecuteTime": {
     "end_time": "2020-04-14T12:04:02.110126Z",
     "start_time": "2020-04-14T12:04:01.515702Z"
    }
   },
   "outputs": [],
   "source": [
    "ax = df.plot(figsize=(15, 5))\n",
    "ax = returns.plot(ax=ax, secondary_y=True)"
   ]
  },
  {
   "cell_type": "markdown",
   "metadata": {},
   "source": [
    "### Seasonality"
   ]
  },
  {
   "cell_type": "markdown",
   "metadata": {},
   "source": [
    "Since agriculture is a seasonal industry, a seasonal plot with annual seasonality might help us discover some patterns:"
   ]
  },
  {
   "cell_type": "code",
   "execution_count": null,
   "metadata": {
    "ExecuteTime": {
     "end_time": "2020-04-14T12:04:02.771606Z",
     "start_time": "2020-04-14T12:04:02.112667Z"
    }
   },
   "outputs": [],
   "source": [
    "fig = plt.figure(figsize=(14, 6))\n",
    "m1 = fig.add_subplot(121, title='Seasonal plot (year/monthly)')\n",
    "seasonal_plot(df, 'year', freq='M', agg='last', ax=m1)\n",
    "m2 = fig.add_subplot(122, projection='polar')\n",
    "seasonal_plot(returns, 'year', freq='M', agg='last', ax=m2, polar=True)\n",
    "m2.set_title('Monthly returns');"
   ]
  },
  {
   "cell_type": "markdown",
   "metadata": {},
   "source": [
    "We can see that the prices are more volatile in the middle of the year, which can be even better observed on a polar plot of the returns."
   ]
  },
  {
   "cell_type": "code",
   "execution_count": null,
   "metadata": {
    "ExecuteTime": {
     "end_time": "2020-04-14T12:04:03.716828Z",
     "start_time": "2020-04-14T12:04:02.773623Z"
    }
   },
   "outputs": [],
   "source": [
    "seasonal_subplots(returns, 'year', 'M', agg='last', box=True);"
   ]
  },
  {
   "cell_type": "markdown",
   "metadata": {},
   "source": [
    "Seasonal subplots also show that summer (and expecially June) returns are much more volatile than the other."
   ]
  },
  {
   "cell_type": "markdown",
   "metadata": {},
   "source": [
    "### Autocorrelation"
   ]
  },
  {
   "cell_type": "markdown",
   "metadata": {},
   "source": [
    "Lag plots are a good tool to analyse autocorrelation as well as seasonality. Here we can see that there's a significant autocorrelation between index values, even for 30-day lags, however it becomes less visible compared to the values 1 year ago:"
   ]
  },
  {
   "cell_type": "code",
   "execution_count": null,
   "metadata": {
    "ExecuteTime": {
     "end_time": "2020-04-14T12:04:04.219344Z",
     "start_time": "2020-04-14T12:04:03.722551Z"
    }
   },
   "outputs": [],
   "source": [
    "lag_plot(df, lags=[1, 30, 365]);"
   ]
  },
  {
   "cell_type": "markdown",
   "metadata": {},
   "source": [
    "However, the returns are much more random and lag plots for different lags look very similar."
   ]
  },
  {
   "cell_type": "code",
   "execution_count": null,
   "metadata": {
    "ExecuteTime": {
     "end_time": "2020-04-14T12:04:04.870525Z",
     "start_time": "2020-04-14T12:04:04.226809Z"
    }
   },
   "outputs": [],
   "source": [
    "lag_plot(returns, lags=[1, 30, 365]);"
   ]
  },
  {
   "cell_type": "markdown",
   "metadata": {},
   "source": [
    "Autocorrelation plots confirm this observation, showing a very persistent autocorrelation between index values but PACF is not significant after lag 1."
   ]
  },
  {
   "cell_type": "code",
   "execution_count": null,
   "metadata": {
    "ExecuteTime": {
     "end_time": "2020-04-14T12:04:05.326386Z",
     "start_time": "2020-04-14T12:04:04.889045Z"
    },
    "scrolled": true
   },
   "outputs": [],
   "source": [
    "fig = plt.figure(figsize=(14, 5))\n",
    "a1 = fig.add_subplot(121, title='ACF plot')\n",
    "acf_plot(df, max_lags=15, ax=a1)\n",
    "a2 = fig.add_subplot(122, title='PACF plot')\n",
    "acf_plot(df, max_lags=15, ax=a2, partial=True);"
   ]
  },
  {
   "cell_type": "markdown",
   "metadata": {},
   "source": [
    "The returns show no significant autocorrelation and look like a white noise process."
   ]
  },
  {
   "cell_type": "code",
   "execution_count": null,
   "metadata": {
    "ExecuteTime": {
     "end_time": "2020-04-14T12:04:05.690283Z",
     "start_time": "2020-04-14T12:04:05.330457Z"
    }
   },
   "outputs": [],
   "source": [
    "fig = plt.figure(figsize=(14, 5))\n",
    "a1 = fig.add_subplot(121, title='ACF plot')\n",
    "acf_plot(returns, max_lags=15, ax=a1)\n",
    "a2 = fig.add_subplot(122, title='PACF plot')\n",
    "acf_plot(returns, max_lags=15, ax=a2, partial=True);"
   ]
  }
 ],
 "metadata": {
  "kernelspec": {
   "display_name": "Python 3 (ipykernel)",
   "language": "python",
   "name": "python3"
  },
  "language_info": {
   "codemirror_mode": {
    "name": "ipython",
    "version": 3
   },
   "file_extension": ".py",
   "mimetype": "text/x-python",
   "name": "python",
   "nbconvert_exporter": "python",
   "pygments_lexer": "ipython3",
   "version": "3.9.13"
  }
 },
 "nbformat": 4,
 "nbformat_minor": 4
}
