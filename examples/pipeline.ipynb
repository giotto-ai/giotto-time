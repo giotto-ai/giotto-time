{
 "cells": [
  {
   "cell_type": "markdown",
   "metadata": {
    "ExecuteTime": {
     "end_time": "2019-12-19T10:34:45.079040Z",
     "start_time": "2019-12-19T10:34:45.075853Z"
    }
   },
   "source": [
    "# Giotto-Time\n",
    "\n",
    "Welcome to `giotto-time`, our new library for time series forecasting!\n",
    "\n",
    "Let's start with an example."
   ]
  },
  {
   "cell_type": "markdown",
   "metadata": {
    "ExecuteTime": {
     "end_time": "2019-12-19T10:37:13.829605Z",
     "start_time": "2019-12-19T10:37:13.827033Z"
    }
   },
   "source": [
    "## First example"
   ]
  },
  {
   "cell_type": "markdown",
   "metadata": {
    "ExecuteTime": {
     "end_time": "2019-12-19T10:51:37.701263Z",
     "start_time": "2019-12-19T10:51:37.698686Z"
    }
   },
   "source": [
    "### Ingredients"
   ]
  },
  {
   "cell_type": "markdown",
   "metadata": {
    "ExecuteTime": {
     "end_time": "2019-12-19T10:43:03.249232Z",
     "start_time": "2019-12-19T10:43:03.244743Z"
    }
   },
   "source": [
    "These are the main ingredients of `giotto-time`:"
   ]
  },
  {
   "cell_type": "code",
   "execution_count": null,
   "metadata": {
    "ExecuteTime": {
     "end_time": "2020-02-07T08:28:09.052637Z",
     "start_time": "2020-02-07T08:28:09.049177Z"
    }
   },
   "outputs": [],
   "source": [
    "import sys\n",
    "sys.path.append('../')"
   ]
  },
  {
   "cell_type": "code",
   "execution_count": null,
   "metadata": {
    "ExecuteTime": {
     "end_time": "2020-02-07T08:29:35.307241Z",
     "start_time": "2020-02-07T08:29:35.271838Z"
    }
   },
   "outputs": [],
   "source": [
    "%load_ext autoreload\n",
    "%autoreload 2\n",
    "import pandas as pd\n",
    "import numpy as np\n",
    "import matplotlib.pyplot as plt\n",
    "\n",
    "from gtime.preprocessing import TimeSeriesPreparation\n",
    "from gtime.compose import FeatureCreation\n",
    "from gtime.feature_extraction import Shift, MovingAverage\n",
    "from gtime.feature_generation import PeriodicSeasonal, Constant, Calendar\n",
    "from gtime.model_selection import horizon_shift, FeatureSplitter\n",
    "from gtime.forecasting import GAR\n",
    "from gtime.time_series_models.base import TimeSeriesForecastingModel"
   ]
  },
  {
   "cell_type": "markdown",
   "metadata": {
    "ExecuteTime": {
     "end_time": "2020-01-23T10:33:07.963000Z",
     "start_time": "2020-01-23T10:33:07.896247Z"
    }
   },
   "source": [
    "- `TimeSeriesPreparation`: checks the input format of the time series and converts it to the expected format\n",
    "- `DataFrameTransformer`: scikit-learn's `ColumnTransformer` wrapper that returns DataFrame\n",
    "- `Shift`, `MovingAverage`: create the desired features on the time series for the forecasting\n",
    "- `FeatureSplitter`: prepares the custom `giotto-time` train-test matrices that are used in the model\n",
    "- `GAR`: Generalized Auto Regressive model, scikit-learn's `MultiOutputRegressor` wrapper. This is the only time series forecasting model available for the first release"
   ]
  },
  {
   "cell_type": "markdown",
   "metadata": {},
   "source": [
    "We also need a scikit-learn regression model. We go for a standard `LinearRegression` for this example."
   ]
  },
  {
   "cell_type": "code",
   "execution_count": null,
   "metadata": {
    "ExecuteTime": {
     "end_time": "2020-02-07T08:28:43.128918Z",
     "start_time": "2020-02-07T08:28:43.026899Z"
    }
   },
   "outputs": [],
   "source": [
    "from sklearn.linear_model import LinearRegression"
   ]
  },
  {
   "cell_type": "markdown",
   "metadata": {
    "ExecuteTime": {
     "end_time": "2019-12-19T10:51:15.298065Z",
     "start_time": "2019-12-19T10:51:15.295733Z"
    }
   },
   "source": [
    "### Data"
   ]
  },
  {
   "cell_type": "markdown",
   "metadata": {
    "ExecuteTime": {
     "end_time": "2019-12-19T10:55:55.362286Z",
     "start_time": "2019-12-19T10:55:55.358045Z"
    }
   },
   "source": [
    "We use the `pandas.testing` module to create a testing time series"
   ]
  },
  {
   "cell_type": "code",
   "execution_count": null,
   "metadata": {
    "ExecuteTime": {
     "end_time": "2020-02-07T08:28:44.490277Z",
     "start_time": "2020-02-07T08:28:44.461955Z"
    }
   },
   "outputs": [],
   "source": [
    "def test_time_series():\n",
    "    from pandas.util import testing as testing\n",
    "\n",
    "    testing.N, testing.K = 500, 1\n",
    "    df = testing.makeTimeDataFrame( freq=\"D\" )\n",
    "    return df"
   ]
  },
  {
   "cell_type": "code",
   "execution_count": null,
   "metadata": {
    "ExecuteTime": {
     "end_time": "2020-02-07T08:28:45.469826Z",
     "start_time": "2020-02-07T08:28:45.440496Z"
    }
   },
   "outputs": [],
   "source": [
    "time_series = test_time_series()\n",
    "print(f'Time series shape: {time_series.shape}')\n",
    "print(f'Time series index type: {time_series.index.__class__}')"
   ]
  },
  {
   "cell_type": "markdown",
   "metadata": {
    "ExecuteTime": {
     "end_time": "2019-12-19T13:37:09.941132Z",
     "start_time": "2019-12-19T13:37:09.938476Z"
    }
   },
   "source": [
    "### Time Series Preparation"
   ]
  },
  {
   "cell_type": "markdown",
   "metadata": {
    "ExecuteTime": {
     "end_time": "2019-12-19T13:37:33.357619Z",
     "start_time": "2019-12-19T13:37:33.347192Z"
    }
   },
   "source": [
    "The input time series has to be a `DataFrame` with a `PeriodIndex`. Use the provided class `TimeSeriesPreparation` to convert the time series into this format."
   ]
  },
  {
   "cell_type": "code",
   "execution_count": null,
   "metadata": {
    "ExecuteTime": {
     "end_time": "2020-02-07T08:28:45.973844Z",
     "start_time": "2020-02-07T08:28:45.947063Z"
    }
   },
   "outputs": [],
   "source": [
    "time_series_preparation = TimeSeriesPreparation()"
   ]
  },
  {
   "cell_type": "code",
   "execution_count": null,
   "metadata": {
    "ExecuteTime": {
     "end_time": "2020-02-07T08:28:46.188237Z",
     "start_time": "2020-02-07T08:28:46.143794Z"
    }
   },
   "outputs": [],
   "source": [
    "period_index_time_series = time_series_preparation.transform(time_series)"
   ]
  },
  {
   "cell_type": "code",
   "execution_count": null,
   "metadata": {
    "ExecuteTime": {
     "end_time": "2020-02-07T08:28:46.327593Z",
     "start_time": "2020-02-07T08:28:46.297258Z"
    }
   },
   "outputs": [],
   "source": [
    "print(f'Time series index type after the preprocessing: {period_index_time_series.index.__class__}')"
   ]
  },
  {
   "cell_type": "code",
   "execution_count": null,
   "metadata": {
    "ExecuteTime": {
     "end_time": "2020-02-07T08:28:47.160338Z",
     "start_time": "2020-02-07T08:28:46.463387Z"
    }
   },
   "outputs": [],
   "source": [
    "period_index_time_series.plot(figsize=(20, 5))\n",
    "plt.show()"
   ]
  },
  {
   "cell_type": "markdown",
   "metadata": {
    "ExecuteTime": {
     "end_time": "2019-12-19T14:15:31.332440Z",
     "start_time": "2019-12-19T14:15:31.322583Z"
    }
   },
   "source": [
    "### Feature extraction"
   ]
  },
  {
   "cell_type": "markdown",
   "metadata": {
    "ExecuteTime": {
     "end_time": "2019-12-19T14:20:25.312078Z",
     "start_time": "2019-12-19T14:20:25.307741Z"
    }
   },
   "source": [
    "The feature extraction part is aimed at providing a scikit-learn paradigm with a time-series forecasting perspective\n",
    "Our `DataFrameTransformer` inherits from scikit-learn's `ColumnTransformer`, it will create a feature DataFrame with the provided Transformers.\n",
    "\n",
    "For simplicity we will create only `Shift` and `MovingAverage` features. \n",
    "\n",
    "`Shift` provides a temporal shift of the time series. Adding two `Shift` features (by 1 and 2) is equivalent to an `AR(2)` model. \n",
    "\n",
    "Since the `DataFrameTransformer` is a `ColumnTransformer` wrapper, you can easily include features from `scikit-learn`, `tsfresh`, topological features from `giotto-tda` (\\o/) or your own custom features."
   ]
  },
  {
   "cell_type": "code",
   "execution_count": null,
   "metadata": {
    "ExecuteTime": {
     "end_time": "2020-02-07T08:28:47.191851Z",
     "start_time": "2020-02-07T08:28:47.163239Z"
    }
   },
   "outputs": [],
   "source": [
    "cal = Calendar(\n",
    "    start_date=\"ignored\",\n",
    "    end_date=\"ignored\",\n",
    "    country=\"Brazil\",\n",
    "    kernel=np.array([0, 1]),\n",
    ")\n",
    "# New API \n",
    "features = [('s1', Shift(1), ['time_series']), \n",
    "            ('s2', Shift(2), ['time_series']),\n",
    "            ('ma3', MovingAverage(window_size=3), ['time_series']),]\n",
    "dft = FeatureCreation(features)"
   ]
  },
  {
   "cell_type": "code",
   "execution_count": null,
   "metadata": {
    "ExecuteTime": {
     "end_time": "2020-02-07T08:28:47.340928Z",
     "start_time": "2020-02-07T08:28:47.290379Z"
    }
   },
   "outputs": [],
   "source": [
    "X = dft.fit_transform(period_index_time_series)\n",
    "X.head(6)"
   ]
  },
  {
   "cell_type": "code",
   "execution_count": null,
   "metadata": {
    "ExecuteTime": {
     "end_time": "2020-02-07T08:28:47.542425Z",
     "start_time": "2020-02-07T08:28:47.497910Z"
    }
   },
   "outputs": [],
   "source": [
    "y = horizon_shift(period_index_time_series, horizon=3)\n",
    "y.head()"
   ]
  },
  {
   "cell_type": "markdown",
   "metadata": {
    "ExecuteTime": {
     "end_time": "2019-12-19T14:42:32.549572Z",
     "start_time": "2019-12-19T14:42:32.547124Z"
    }
   },
   "source": [
    "### Train-Test split"
   ]
  },
  {
   "cell_type": "markdown",
   "metadata": {
    "ExecuteTime": {
     "end_time": "2019-12-20T10:59:18.112521Z",
     "start_time": "2019-12-20T10:59:18.108823Z"
    }
   },
   "source": [
    "We use `FeatureSplitter` to split the matrices X and y in train and test. "
   ]
  },
  {
   "cell_type": "code",
   "execution_count": null,
   "metadata": {
    "ExecuteTime": {
     "end_time": "2020-02-07T08:28:48.138257Z",
     "start_time": "2020-02-07T08:28:48.108914Z"
    }
   },
   "outputs": [],
   "source": [
    "feature_splitter = FeatureSplitter()"
   ]
  },
  {
   "cell_type": "code",
   "execution_count": null,
   "metadata": {
    "ExecuteTime": {
     "end_time": "2020-02-07T08:28:48.330544Z",
     "start_time": "2020-02-07T08:28:48.281183Z"
    }
   },
   "outputs": [],
   "source": [
    "X_train, y_train, X_test, y_test = feature_splitter.transform(X, y)"
   ]
  },
  {
   "cell_type": "markdown",
   "metadata": {
    "ExecuteTime": {
     "end_time": "2019-12-19T14:44:02.820817Z",
     "start_time": "2019-12-19T14:44:02.818276Z"
    }
   },
   "source": [
    "### Training"
   ]
  },
  {
   "cell_type": "markdown",
   "metadata": {
    "ExecuteTime": {
     "end_time": "2019-12-20T11:01:12.922844Z",
     "start_time": "2019-12-20T11:01:12.919591Z"
    }
   },
   "source": [
    "We rewrapped scikit-learn's `MultiOutputRegressor` as `GAR` (Generalized Auto Regressive) model to better fit time series forecasting frameworks.\n",
    "\n",
    "The traditional *AR* model is equivalent to the `GAR` model that uses only `Shift` columns in the `X` matrix.\n",
    "`GAR` supports all the features compatible with the feature extraction step.\n",
    "\n",
    "*AR*: https://en.wikipedia.org/wiki/Autoregressive_model"
   ]
  },
  {
   "cell_type": "code",
   "execution_count": null,
   "metadata": {
    "ExecuteTime": {
     "end_time": "2020-02-07T08:28:48.815386Z",
     "start_time": "2020-02-07T08:28:48.788489Z"
    }
   },
   "outputs": [],
   "source": [
    "lr = LinearRegression()\n",
    "model = GAR(lr)"
   ]
  },
  {
   "cell_type": "code",
   "execution_count": null,
   "metadata": {
    "ExecuteTime": {
     "end_time": "2020-02-07T08:28:49.012813Z",
     "start_time": "2020-02-07T08:28:48.979479Z"
    }
   },
   "outputs": [],
   "source": [
    "model = model.fit(X_train, y_train)"
   ]
  },
  {
   "cell_type": "markdown",
   "metadata": {
    "ExecuteTime": {
     "end_time": "2019-12-20T11:01:01.280526Z",
     "start_time": "2019-12-20T11:01:01.278125Z"
    }
   },
   "source": [
    "### Forecasting"
   ]
  },
  {
   "cell_type": "markdown",
   "metadata": {
    "ExecuteTime": {
     "end_time": "2019-12-20T11:10:02.544672Z",
     "start_time": "2019-12-20T11:10:02.540859Z"
    }
   },
   "source": [
    "We forecast 3 time steps of the time series (we set this parameter in `horizon_shift` method).\n",
    "\n",
    "The format of the output is the following:\n",
    "- the index is the step at which the prediction is made.\n",
    "- the column `y_1` is the prediction one time step after and so on for `y_2` and `y_3`"
   ]
  },
  {
   "cell_type": "code",
   "execution_count": null,
   "metadata": {
    "ExecuteTime": {
     "end_time": "2020-02-07T08:28:49.958649Z",
     "start_time": "2020-02-07T08:28:49.932261Z"
    }
   },
   "outputs": [],
   "source": [
    "predictions = model.predict(X_test)"
   ]
  },
  {
   "cell_type": "code",
   "execution_count": null,
   "metadata": {
    "ExecuteTime": {
     "end_time": "2020-02-07T08:28:50.411935Z",
     "start_time": "2020-02-07T08:28:50.379848Z"
    }
   },
   "outputs": [],
   "source": [
    "predictions"
   ]
  },
  {
   "cell_type": "markdown",
   "metadata": {
    "ExecuteTime": {
     "end_time": "2020-02-07T08:29:00.180306Z",
     "start_time": "2020-02-07T08:29:00.152425Z"
    }
   },
   "source": [
    "### Forecasting with pipeline"
   ]
  },
  {
   "cell_type": "code",
   "execution_count": null,
   "metadata": {
    "ExecuteTime": {
     "end_time": "2020-02-07T08:46:55.542574Z",
     "start_time": "2020-02-07T08:46:55.427716Z"
    }
   },
   "outputs": [],
   "source": [
    "time_series_pipeline = TimeSeriesForecastingModel(features=features, horizon=3, model=GAR(lr))"
   ]
  },
  {
   "cell_type": "code",
   "execution_count": null,
   "metadata": {
    "ExecuteTime": {
     "end_time": "2020-02-07T08:46:55.986957Z",
     "start_time": "2020-02-07T08:46:55.926815Z"
    }
   },
   "outputs": [],
   "source": [
    "time_series_pipeline.fit(period_index_time_series)"
   ]
  },
  {
   "cell_type": "code",
   "execution_count": null,
   "metadata": {
    "ExecuteTime": {
     "end_time": "2020-02-07T08:47:10.907215Z",
     "start_time": "2020-02-07T08:47:10.764492Z"
    }
   },
   "outputs": [],
   "source": [
    "time_series_pipeline.predict()"
   ]
  },
  {
   "cell_type": "code",
   "execution_count": null,
   "metadata": {},
   "outputs": [],
   "source": []
  }
 ],
 "metadata": {
  "kernelspec": {
   "display_name": "Python 3 (ipykernel)",
   "language": "python",
   "name": "python3"
  },
  "language_info": {
   "codemirror_mode": {
    "name": "ipython",
    "version": 3
   },
   "file_extension": ".py",
   "mimetype": "text/x-python",
   "name": "python",
   "nbconvert_exporter": "python",
   "pygments_lexer": "ipython3",
   "version": "3.9.13"
  },
  "pycharm": {
   "stem_cell": {
    "cell_type": "raw",
    "metadata": {
     "collapsed": false
    },
    "source": []
   }
  },
  "toc": {
   "base_numbering": 1,
   "nav_menu": {},
   "number_sections": true,
   "sideBar": true,
   "skip_h1_title": false,
   "title_cell": "Table of Contents",
   "title_sidebar": "Contents",
   "toc_cell": false,
   "toc_position": {},
   "toc_section_display": true,
   "toc_window_display": false
  }
 },
 "nbformat": 4,
 "nbformat_minor": 4
}
