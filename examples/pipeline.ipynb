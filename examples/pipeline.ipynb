{
 "cells": [
  {
   "cell_type": "markdown",
   "metadata": {
    "ExecuteTime": {
     "end_time": "2019-12-19T10:34:45.079040Z",
     "start_time": "2019-12-19T10:34:45.075853Z"
    }
   },
   "source": [
    "# Giotto-Time\n",
    "\n",
    "Welcome to `giotto-time`, our new library for time series forecasting!\n",
    "\n",
    "Let's start with an example."
   ]
  },
  {
   "cell_type": "markdown",
   "metadata": {
    "ExecuteTime": {
     "end_time": "2019-12-19T10:37:13.829605Z",
     "start_time": "2019-12-19T10:37:13.827033Z"
    }
   },
   "source": [
    "## First example"
   ]
  },
  {
   "cell_type": "markdown",
   "metadata": {
    "ExecuteTime": {
     "end_time": "2019-12-19T10:51:37.701263Z",
     "start_time": "2019-12-19T10:51:37.698686Z"
    }
   },
   "source": [
    "### Ingredients"
   ]
  },
  {
   "cell_type": "markdown",
   "metadata": {
    "ExecuteTime": {
     "end_time": "2019-12-19T10:43:03.249232Z",
     "start_time": "2019-12-19T10:43:03.244743Z"
    }
   },
   "source": [
    "These are the main ingredients of `giotto-time`:"
   ]
  },
  {
   "cell_type": "code",
   "execution_count": 1,
   "metadata": {
    "ExecuteTime": {
     "end_time": "2020-02-07T08:28:09.052637Z",
     "start_time": "2020-02-07T08:28:09.049177Z"
    }
   },
   "outputs": [],
   "source": [
    "import sys\n",
    "sys.path.append('../')"
   ]
  },
  {
   "cell_type": "code",
   "execution_count": 21,
   "metadata": {
    "ExecuteTime": {
     "end_time": "2020-02-07T08:29:35.307241Z",
     "start_time": "2020-02-07T08:29:35.271838Z"
    }
   },
   "outputs": [
    {
     "name": "stdout",
     "output_type": "stream",
     "text": [
      "The autoreload extension is already loaded. To reload it, use:\n",
      "  %reload_ext autoreload\n"
     ]
    }
   ],
   "source": [
    "%load_ext autoreload\n",
    "%autoreload 2\n",
    "import pandas as pd\n",
    "import numpy as np\n",
    "import matplotlib.pyplot as plt\n",
    "\n",
    "from gtime.preprocessing import TimeSeriesPreparation\n",
    "from gtime.compose import FeatureCreation\n",
    "from gtime.feature_extraction import Shift, MovingAverage\n",
    "from gtime.feature_generation import PeriodicSeasonal, Constant, Calendar\n",
    "from gtime.model_selection import horizon_shift, FeatureSplitter\n",
    "from gtime.forecasting import GAR\n",
    "from gtime.time_series_models.base import TimeSeriesPipeline"
   ]
  },
  {
   "cell_type": "markdown",
   "metadata": {
    "ExecuteTime": {
     "end_time": "2020-01-23T10:33:07.963000Z",
     "start_time": "2020-01-23T10:33:07.896247Z"
    }
   },
   "source": [
    "- `TimeSeriesPreparation`: checks the input format of the time series and converts it to the expected format\n",
    "- `DataFrameTransformer`: scikit-learn's `ColumnTransformer` wrapper that returns DataFrame\n",
    "- `Shift`, `MovingAverage`: create the desired features on the time series for the forecasting\n",
    "- `FeatureSplitter`: prepares the custom `giotto-time` train-test matrices that are used in the model\n",
    "- `GAR`: Generalized Auto Regressive model, scikit-learn's `MultiOutputRegressor` wrapper. This is the only time series forecasting model available for the first release"
   ]
  },
  {
   "cell_type": "markdown",
   "metadata": {},
   "source": [
    "We also need a scikit-learn regression model. We go for a standard `LinearRegression` for this example."
   ]
  },
  {
   "cell_type": "code",
   "execution_count": 4,
   "metadata": {
    "ExecuteTime": {
     "end_time": "2020-02-07T08:28:43.128918Z",
     "start_time": "2020-02-07T08:28:43.026899Z"
    }
   },
   "outputs": [],
   "source": [
    "from sklearn.linear_model import LinearRegression"
   ]
  },
  {
   "cell_type": "markdown",
   "metadata": {
    "ExecuteTime": {
     "end_time": "2019-12-19T10:51:15.298065Z",
     "start_time": "2019-12-19T10:51:15.295733Z"
    }
   },
   "source": [
    "### Data"
   ]
  },
  {
   "cell_type": "markdown",
   "metadata": {
    "ExecuteTime": {
     "end_time": "2019-12-19T10:55:55.362286Z",
     "start_time": "2019-12-19T10:55:55.358045Z"
    }
   },
   "source": [
    "We use the `pandas.testing` module to create a testing time series"
   ]
  },
  {
   "cell_type": "code",
   "execution_count": 5,
   "metadata": {
    "ExecuteTime": {
     "end_time": "2020-02-07T08:28:44.490277Z",
     "start_time": "2020-02-07T08:28:44.461955Z"
    }
   },
   "outputs": [],
   "source": [
    "def test_time_series():\n",
    "    from pandas.util import testing as testing\n",
    "\n",
    "    testing.N, testing.K = 500, 1\n",
    "    df = testing.makeTimeDataFrame( freq=\"D\" )\n",
    "    return df"
   ]
  },
  {
   "cell_type": "code",
   "execution_count": 6,
   "metadata": {
    "ExecuteTime": {
     "end_time": "2020-02-07T08:28:45.469826Z",
     "start_time": "2020-02-07T08:28:45.440496Z"
    }
   },
   "outputs": [
    {
     "name": "stdout",
     "output_type": "stream",
     "text": [
      "Time series shape: (500, 1)\n",
      "Time series index type: <class 'pandas.core.indexes.datetimes.DatetimeIndex'>\n"
     ]
    }
   ],
   "source": [
    "time_series = test_time_series()\n",
    "print(f'Time series shape: {time_series.shape}')\n",
    "print(f'Time series index type: {time_series.index.__class__}')"
   ]
  },
  {
   "cell_type": "markdown",
   "metadata": {
    "ExecuteTime": {
     "end_time": "2019-12-19T13:37:09.941132Z",
     "start_time": "2019-12-19T13:37:09.938476Z"
    }
   },
   "source": [
    "### Time Series Preparation"
   ]
  },
  {
   "cell_type": "markdown",
   "metadata": {
    "ExecuteTime": {
     "end_time": "2019-12-19T13:37:33.357619Z",
     "start_time": "2019-12-19T13:37:33.347192Z"
    }
   },
   "source": [
    "The input time series has to be a `DataFrame` with a `PeriodIndex`. Use the provided class `TimeSeriesPreparation` to convert the time series into this format."
   ]
  },
  {
   "cell_type": "code",
   "execution_count": 7,
   "metadata": {
    "ExecuteTime": {
     "end_time": "2020-02-07T08:28:45.973844Z",
     "start_time": "2020-02-07T08:28:45.947063Z"
    }
   },
   "outputs": [],
   "source": [
    "time_series_preparation = TimeSeriesPreparation()"
   ]
  },
  {
   "cell_type": "code",
   "execution_count": 8,
   "metadata": {
    "ExecuteTime": {
     "end_time": "2020-02-07T08:28:46.188237Z",
     "start_time": "2020-02-07T08:28:46.143794Z"
    }
   },
   "outputs": [],
   "source": [
    "period_index_time_series = time_series_preparation.transform(time_series)"
   ]
  },
  {
   "cell_type": "code",
   "execution_count": 9,
   "metadata": {
    "ExecuteTime": {
     "end_time": "2020-02-07T08:28:46.327593Z",
     "start_time": "2020-02-07T08:28:46.297258Z"
    }
   },
   "outputs": [
    {
     "name": "stdout",
     "output_type": "stream",
     "text": [
      "Time series index type after the preprocessing: <class 'pandas.core.indexes.period.PeriodIndex'>\n"
     ]
    }
   ],
   "source": [
    "print(f'Time series index type after the preprocessing: {period_index_time_series.index.__class__}')"
   ]
  },
  {
   "cell_type": "code",
   "execution_count": 10,
   "metadata": {
    "ExecuteTime": {
     "end_time": "2020-02-07T08:28:47.160338Z",
     "start_time": "2020-02-07T08:28:46.463387Z"
    }
   },
   "outputs": [
    {
     "data": {
      "image/png": "[encoded data removed]",
      "text/plain": [
       "<Figure size 1440x360 with 1 Axes>"
      ]
     },
     "metadata": {
      "needs_background": "light"
     },
     "output_type": "display_data"
    }
   ],
   "source": [
    "period_index_time_series.plot(figsize=(20, 5))\n",
    "plt.show()"
   ]
  },
  {
   "cell_type": "markdown",
   "metadata": {
    "ExecuteTime": {
     "end_time": "2019-12-19T14:15:31.332440Z",
     "start_time": "2019-12-19T14:15:31.322583Z"
    }
   },
   "source": [
    "### Feature extraction"
   ]
  },
  {
   "cell_type": "markdown",
   "metadata": {
    "ExecuteTime": {
     "end_time": "2019-12-19T14:20:25.312078Z",
     "start_time": "2019-12-19T14:20:25.307741Z"
    }
   },
   "source": [
    "The feature extraction part is aimed at providing a scikit-learn paradigm with a time-series forecasting perspective\n",
    "Our `DataFrameTransformer` inherits from scikit-learn's `ColumnTransformer`, it will create a feature DataFrame with the provided Transformers.\n",
    "\n",
    "For simplicity we will create only `Shift` and `MovingAverage` features. \n",
    "\n",
    "`Shift` provides a temporal shift of the time series. Adding two `Shift` features (by 1 and 2) is equivalent to an `AR(2)` model. \n",
    "\n",
    "Since the `DataFrameTransformer` is a `ColumnTransformer` wrapper, you can easily include features from `scikit-learn`, `tsfresh`, topological features from `giotto-tda` (\\o/) or your own custom features."
   ]
  },
  {
   "cell_type": "code",
   "execution_count": 11,
   "metadata": {
    "ExecuteTime": {
     "end_time": "2020-02-07T08:28:47.191851Z",
     "start_time": "2020-02-07T08:28:47.163239Z"
    }
   },
   "outputs": [],
   "source": [
    "cal = Calendar(\n",
    "    start_date=\"ignored\",\n",
    "    end_date=\"ignored\",\n",
    "    region=\"america\",\n",
    "    country=\"Brazil\",\n",
    "    kernel=np.array([0, 1]),\n",
    ")\n",
    "# New API \n",
    "dft = FeatureCreation(\n",
    "    [('s1', Shift(1), ['time_series']), \n",
    "     ('s2', Shift(2), ['time_series']),\n",
    "     ('ma3', MovingAverage(window_size=3), ['time_series']),\n",
    "     # ('cal', cal, ['time_series']),\n",
    "     # ('ct', Constant(2), ['time_series']),\n",
    "    ])"
   ]
  },
  {
   "cell_type": "code",
   "execution_count": 12,
   "metadata": {
    "ExecuteTime": {
     "end_time": "2020-02-07T08:28:47.340928Z",
     "start_time": "2020-02-07T08:28:47.290379Z"
    }
   },
   "outputs": [
    {
     "data": {
      "text/html": [
       "<div>\n",
       "<style scoped>\n",
       "    .dataframe tbody tr th:only-of-type {\n",
       "        vertical-align: middle;\n",
       "    }\n",
       "\n",
       "    .dataframe tbody tr th {\n",
       "        vertical-align: top;\n",
       "    }\n",
       "\n",
       "    .dataframe thead th {\n",
       "        text-align: right;\n",
       "    }\n",
       "</style>\n",
       "<table border=\"1\" class=\"dataframe\">\n",
       "  <thead>\n",
       "    <tr style=\"text-align: right;\">\n",
       "      <th></th>\n",
       "      <th>s1__time_series__Shift</th>\n",
       "      <th>s2__time_series__Shift</th>\n",
       "      <th>ma3__time_series__MovingAverage</th>\n",
       "    </tr>\n",
       "  </thead>\n",
       "  <tbody>\n",
       "    <tr>\n",
       "      <th>2000-01-01</th>\n",
       "      <td>NaN</td>\n",
       "      <td>NaN</td>\n",
       "      <td>NaN</td>\n",
       "    </tr>\n",
       "    <tr>\n",
       "      <th>2000-01-02</th>\n",
       "      <td>0.829722</td>\n",
       "      <td>NaN</td>\n",
       "      <td>NaN</td>\n",
       "    </tr>\n",
       "    <tr>\n",
       "      <th>2000-01-03</th>\n",
       "      <td>0.470912</td>\n",
       "      <td>0.829722</td>\n",
       "      <td>0.405574</td>\n",
       "    </tr>\n",
       "    <tr>\n",
       "      <th>2000-01-04</th>\n",
       "      <td>-0.083910</td>\n",
       "      <td>0.470912</td>\n",
       "      <td>-0.736190</td>\n",
       "    </tr>\n",
       "    <tr>\n",
       "      <th>2000-01-05</th>\n",
       "      <td>-2.595572</td>\n",
       "      <td>-0.083910</td>\n",
       "      <td>-1.534035</td>\n",
       "    </tr>\n",
       "    <tr>\n",
       "      <th>2000-01-06</th>\n",
       "      <td>-1.922621</td>\n",
       "      <td>-2.595572</td>\n",
       "      <td>-1.206470</td>\n",
       "    </tr>\n",
       "  </tbody>\n",
       "</table>\n",
       "</div>"
      ],
      "text/plain": [
       "            s1__time_series__Shift  s2__time_series__Shift  \\\n",
       "2000-01-01                     NaN                     NaN   \n",
       "2000-01-02                0.829722                     NaN   \n",
       "2000-01-03                0.470912                0.829722   \n",
       "2000-01-04               -0.083910                0.470912   \n",
       "2000-01-05               -2.595572               -0.083910   \n",
       "2000-01-06               -1.922621               -2.595572   \n",
       "\n",
       "            ma3__time_series__MovingAverage  \n",
       "2000-01-01                              NaN  \n",
       "2000-01-02                              NaN  \n",
       "2000-01-03                         0.405574  \n",
       "2000-01-04                        -0.736190  \n",
       "2000-01-05                        -1.534035  \n",
       "2000-01-06                        -1.206470  "
      ]
     },
     "execution_count": 12,
     "metadata": {},
     "output_type": "execute_result"
    }
   ],
   "source": [
    "X = dft.fit_transform(period_index_time_series)\n",
    "X.head(6)"
   ]
  },
  {
   "cell_type": "code",
   "execution_count": 13,
   "metadata": {
    "ExecuteTime": {
     "end_time": "2020-02-07T08:28:47.542425Z",
     "start_time": "2020-02-07T08:28:47.497910Z"
    }
   },
   "outputs": [
    {
     "data": {
      "text/html": [
       "<div>\n",
       "<style scoped>\n",
       "    .dataframe tbody tr th:only-of-type {\n",
       "        vertical-align: middle;\n",
       "    }\n",
       "\n",
       "    .dataframe tbody tr th {\n",
       "        vertical-align: top;\n",
       "    }\n",
       "\n",
       "    .dataframe thead th {\n",
       "        text-align: right;\n",
       "    }\n",
       "</style>\n",
       "<table border=\"1\" class=\"dataframe\">\n",
       "  <thead>\n",
       "    <tr style=\"text-align: right;\">\n",
       "      <th></th>\n",
       "      <th>y_1</th>\n",
       "      <th>y_2</th>\n",
       "      <th>y_3</th>\n",
       "    </tr>\n",
       "  </thead>\n",
       "  <tbody>\n",
       "    <tr>\n",
       "      <th>2000-01-01</th>\n",
       "      <td>0.470912</td>\n",
       "      <td>-0.083910</td>\n",
       "      <td>-2.595572</td>\n",
       "    </tr>\n",
       "    <tr>\n",
       "      <th>2000-01-02</th>\n",
       "      <td>-0.083910</td>\n",
       "      <td>-2.595572</td>\n",
       "      <td>-1.922621</td>\n",
       "    </tr>\n",
       "    <tr>\n",
       "      <th>2000-01-03</th>\n",
       "      <td>-2.595572</td>\n",
       "      <td>-1.922621</td>\n",
       "      <td>0.898785</td>\n",
       "    </tr>\n",
       "    <tr>\n",
       "      <th>2000-01-04</th>\n",
       "      <td>-1.922621</td>\n",
       "      <td>0.898785</td>\n",
       "      <td>-1.473090</td>\n",
       "    </tr>\n",
       "    <tr>\n",
       "      <th>2000-01-05</th>\n",
       "      <td>0.898785</td>\n",
       "      <td>-1.473090</td>\n",
       "      <td>0.095200</td>\n",
       "    </tr>\n",
       "  </tbody>\n",
       "</table>\n",
       "</div>"
      ],
      "text/plain": [
       "                 y_1       y_2       y_3\n",
       "2000-01-01  0.470912 -0.083910 -2.595572\n",
       "2000-01-02 -0.083910 -2.595572 -1.922621\n",
       "2000-01-03 -2.595572 -1.922621  0.898785\n",
       "2000-01-04 -1.922621  0.898785 -1.473090\n",
       "2000-01-05  0.898785 -1.473090  0.095200"
      ]
     },
     "execution_count": 13,
     "metadata": {},
     "output_type": "execute_result"
    }
   ],
   "source": [
    "y = horizon_shift(period_index_time_series, horizon=3)\n",
    "y.head()"
   ]
  },
  {
   "cell_type": "markdown",
   "metadata": {
    "ExecuteTime": {
     "end_time": "2019-12-19T14:42:32.549572Z",
     "start_time": "2019-12-19T14:42:32.547124Z"
    }
   },
   "source": [
    "### Train-Test split"
   ]
  },
  {
   "cell_type": "markdown",
   "metadata": {
    "ExecuteTime": {
     "end_time": "2019-12-20T10:59:18.112521Z",
     "start_time": "2019-12-20T10:59:18.108823Z"
    }
   },
   "source": [
    "We use `FeatureSplitter` to split the matrices X and y in train and test. "
   ]
  },
  {
   "cell_type": "code",
   "execution_count": 14,
   "metadata": {
    "ExecuteTime": {
     "end_time": "2020-02-07T08:28:48.138257Z",
     "start_time": "2020-02-07T08:28:48.108914Z"
    }
   },
   "outputs": [],
   "source": [
    "feature_splitter = FeatureSplitter()"
   ]
  },
  {
   "cell_type": "code",
   "execution_count": 15,
   "metadata": {
    "ExecuteTime": {
     "end_time": "2020-02-07T08:28:48.330544Z",
     "start_time": "2020-02-07T08:28:48.281183Z"
    }
   },
   "outputs": [],
   "source": [
    "X_train, y_train, X_test, y_test = feature_splitter.transform(X, y)"
   ]
  },
  {
   "cell_type": "markdown",
   "metadata": {
    "ExecuteTime": {
     "end_time": "2019-12-19T14:44:02.820817Z",
     "start_time": "2019-12-19T14:44:02.818276Z"
    }
   },
   "source": [
    "### Training"
   ]
  },
  {
   "cell_type": "markdown",
   "metadata": {
    "ExecuteTime": {
     "end_time": "2019-12-20T11:01:12.922844Z",
     "start_time": "2019-12-20T11:01:12.919591Z"
    }
   },
   "source": [
    "We rewrapped scikit-learn's `MultiOutputRegressor` as `GAR` (Generalized Auto Regressive) model to better fit time series forecasting frameworks.\n",
    "\n",
    "The traditional *AR* model is equivalent to the `GAR` model that uses only `Shift` columns in the `X` matrix.\n",
    "`GAR` supports all the features compatible with the feature extraction step.\n",
    "\n",
    "*AR*: https://en.wikipedia.org/wiki/Autoregressive_model"
   ]
  },
  {
   "cell_type": "code",
   "execution_count": 16,
   "metadata": {
    "ExecuteTime": {
     "end_time": "2020-02-07T08:28:48.815386Z",
     "start_time": "2020-02-07T08:28:48.788489Z"
    }
   },
   "outputs": [],
   "source": [
    "lr = LinearRegression()\n",
    "model = GAR(lr)"
   ]
  },
  {
   "cell_type": "code",
   "execution_count": 17,
   "metadata": {
    "ExecuteTime": {
     "end_time": "2020-02-07T08:28:49.012813Z",
     "start_time": "2020-02-07T08:28:48.979479Z"
    }
   },
   "outputs": [],
   "source": [
    "model = model.fit(X_train, y_train)"
   ]
  },
  {
   "cell_type": "markdown",
   "metadata": {
    "ExecuteTime": {
     "end_time": "2019-12-20T11:01:01.280526Z",
     "start_time": "2019-12-20T11:01:01.278125Z"
    }
   },
   "source": [
    "### Forecasting"
   ]
  },
  {
   "cell_type": "markdown",
   "metadata": {
    "ExecuteTime": {
     "end_time": "2019-12-20T11:10:02.544672Z",
     "start_time": "2019-12-20T11:10:02.540859Z"
    }
   },
   "source": [
    "We forecast 3 time steps of the time series (we set this parameter in `horizon_shift` method).\n",
    "\n",
    "The format of the output is the following:\n",
    "- the index is the step at which the prediction is made.\n",
    "- the column `y_1` is the prediction one time step after and so on for `y_2` and `y_3`"
   ]
  },
  {
   "cell_type": "code",
   "execution_count": 18,
   "metadata": {
    "ExecuteTime": {
     "end_time": "2020-02-07T08:28:49.958649Z",
     "start_time": "2020-02-07T08:28:49.932261Z"
    }
   },
   "outputs": [],
   "source": [
    "predictions = model.predict(X_test)"
   ]
  },
  {
   "cell_type": "code",
   "execution_count": 19,
   "metadata": {
    "ExecuteTime": {
     "end_time": "2020-02-07T08:28:50.411935Z",
     "start_time": "2020-02-07T08:28:50.379848Z"
    }
   },
   "outputs": [
    {
     "data": {
      "text/html": [
       "<div>\n",
       "<style scoped>\n",
       "    .dataframe tbody tr th:only-of-type {\n",
       "        vertical-align: middle;\n",
       "    }\n",
       "\n",
       "    .dataframe tbody tr th {\n",
       "        vertical-align: top;\n",
       "    }\n",
       "\n",
       "    .dataframe thead th {\n",
       "        text-align: right;\n",
       "    }\n",
       "</style>\n",
       "<table border=\"1\" class=\"dataframe\">\n",
       "  <thead>\n",
       "    <tr style=\"text-align: right;\">\n",
       "      <th></th>\n",
       "      <th>y_1</th>\n",
       "      <th>y_2</th>\n",
       "      <th>y_3</th>\n",
       "    </tr>\n",
       "  </thead>\n",
       "  <tbody>\n",
       "    <tr>\n",
       "      <th>2001-05-12</th>\n",
       "      <td>-0.007442</td>\n",
       "      <td>0.062762</td>\n",
       "      <td>0.045743</td>\n",
       "    </tr>\n",
       "    <tr>\n",
       "      <th>2001-05-13</th>\n",
       "      <td>0.066994</td>\n",
       "      <td>0.014059</td>\n",
       "      <td>-0.007383</td>\n",
       "    </tr>\n",
       "    <tr>\n",
       "      <th>2001-05-14</th>\n",
       "      <td>0.002460</td>\n",
       "      <td>0.009264</td>\n",
       "      <td>0.024057</td>\n",
       "    </tr>\n",
       "  </tbody>\n",
       "</table>\n",
       "</div>"
      ],
      "text/plain": [
       "                 y_1       y_2       y_3\n",
       "2001-05-12 -0.007442  0.062762  0.045743\n",
       "2001-05-13  0.066994  0.014059 -0.007383\n",
       "2001-05-14  0.002460  0.009264  0.024057"
      ]
     },
     "execution_count": 19,
     "metadata": {},
     "output_type": "execute_result"
    }
   ],
   "source": [
    "predictions"
   ]
  },
  {
   "cell_type": "markdown",
   "metadata": {
    "ExecuteTime": {
     "end_time": "2020-02-07T08:29:00.180306Z",
     "start_time": "2020-02-07T08:29:00.152425Z"
    }
   },
   "source": [
    "### Forecasting with pipeline"
   ]
  },
  {
   "cell_type": "code",
   "execution_count": null,
   "metadata": {},
   "outputs": [],
   "source": []
  },
  {
   "cell_type": "code",
   "execution_count": 26,
   "metadata": {
    "ExecuteTime": {
     "end_time": "2020-02-07T08:46:55.542574Z",
     "start_time": "2020-02-07T08:46:55.427716Z"
    }
   },
   "outputs": [],
   "source": [
    "time_series_pipeline = TimeSeriesPipeline(features=dft, horizon=3, model=GAR(lr))"
   ]
  },
  {
   "cell_type": "code",
   "execution_count": 27,
   "metadata": {
    "ExecuteTime": {
     "end_time": "2020-02-07T08:46:55.986957Z",
     "start_time": "2020-02-07T08:46:55.926815Z"
    }
   },
   "outputs": [],
   "source": [
    "time_series_pipeline.fit(period_index_time_series)"
   ]
  },
  {
   "cell_type": "code",
   "execution_count": 29,
   "metadata": {
    "ExecuteTime": {
     "end_time": "2020-02-07T08:47:10.907215Z",
     "start_time": "2020-02-07T08:47:10.764492Z"
    }
   },
   "outputs": [
    {
     "data": {
      "text/html": [
       "<div>\n",
       "<style scoped>\n",
       "    .dataframe tbody tr th:only-of-type {\n",
       "        vertical-align: middle;\n",
       "    }\n",
       "\n",
       "    .dataframe tbody tr th {\n",
       "        vertical-align: top;\n",
       "    }\n",
       "\n",
       "    .dataframe thead th {\n",
       "        text-align: right;\n",
       "    }\n",
       "</style>\n",
       "<table border=\"1\" class=\"dataframe\">\n",
       "  <thead>\n",
       "    <tr style=\"text-align: right;\">\n",
       "      <th></th>\n",
       "      <th>y_1</th>\n",
       "      <th>y_2</th>\n",
       "      <th>y_3</th>\n",
       "    </tr>\n",
       "  </thead>\n",
       "  <tbody>\n",
       "    <tr>\n",
       "      <th>2001-05-12</th>\n",
       "      <td>-0.007442</td>\n",
       "      <td>0.062762</td>\n",
       "      <td>0.045743</td>\n",
       "    </tr>\n",
       "    <tr>\n",
       "      <th>2001-05-13</th>\n",
       "      <td>0.066994</td>\n",
       "      <td>0.014059</td>\n",
       "      <td>-0.007383</td>\n",
       "    </tr>\n",
       "    <tr>\n",
       "      <th>2001-05-14</th>\n",
       "      <td>0.002460</td>\n",
       "      <td>0.009264</td>\n",
       "      <td>0.024057</td>\n",
       "    </tr>\n",
       "  </tbody>\n",
       "</table>\n",
       "</div>"
      ],
      "text/plain": [
       "                 y_1       y_2       y_3\n",
       "2001-05-12 -0.007442  0.062762  0.045743\n",
       "2001-05-13  0.066994  0.014059 -0.007383\n",
       "2001-05-14  0.002460  0.009264  0.024057"
      ]
     },
     "execution_count": 29,
     "metadata": {},
     "output_type": "execute_result"
    }
   ],
   "source": [
    "time_series_pipeline.predict()"
   ]
  }
 ],
 "metadata": {
  "kernelspec": {
   "display_name": "Python 3",
   "language": "python",
   "name": "python3"
  },
  "language_info": {
   "codemirror_mode": {
    "name": "ipython",
    "version": 3
   },
   "file_extension": ".py",
   "mimetype": "text/x-python",
   "name": "python",
   "nbconvert_exporter": "python",
   "pygments_lexer": "ipython3",
   "version": "3.6.9"
  },
  "pycharm": {
   "stem_cell": {
    "cell_type": "raw",
    "metadata": {
     "collapsed": false
    },
    "source": []
   }
  },
  "toc": {
   "base_numbering": 1,
   "nav_menu": {},
   "number_sections": true,
   "sideBar": true,
   "skip_h1_title": false,
   "title_cell": "Table of Contents",
   "title_sidebar": "Contents",
   "toc_cell": false,
   "toc_position": {},
   "toc_section_display": true,
   "toc_window_display": false
  }
 },
 "nbformat": 4,
 "nbformat_minor": 2
}
